{
 "cells": [
  {
   "cell_type": "code",
   "execution_count": null,
   "metadata": {
    "collapsed": true,
    "ExecuteTime": {
     "start_time": "2023-05-09T00:31:20.664591Z",
     "end_time": "2023-05-09T00:31:20.671074Z"
    },
    "pycharm": {
     "is_executing": true
    }
   },
   "outputs": [],
   "source": [
    "import numpy as np\n",
    "\n",
    "from sklearn.model_selection import train_test_split\n",
    "from sklearn.cluster import MiniBatchKMeans\n",
    "from sklearn.metrics import adjusted_rand_score\n",
    "\n",
    "import pickle\n",
    "\n",
    "import matplotlib.pyplot as plt\n",
    "import seaborn as sns\n",
    "\n",
    "from tqdm import tqdm, trange\n",
    "\n",
    "sns.set()"
   ]
  },
  {
   "cell_type": "code",
   "execution_count": null,
   "outputs": [],
   "source": [
    "data = np.load(\"big_embeds.npy\")\n",
    "with open(\"top_endecoder.pkl\", \"rb\") as f:\n",
    "    encoder, decoder = pickle.load(f)\n",
    "\n",
    "labels = np.load(\"top_labels.npy\")\n",
    "\n",
    "print(f\"Loaded {data.shape[0]} datapoints, each with {data.shape[1]} dimensions\")"
   ],
   "metadata": {
    "collapsed": false,
    "ExecuteTime": {
     "start_time": "2023-05-09T00:24:03.688566Z",
     "end_time": "2023-05-09T00:24:10.229168Z"
    },
    "pycharm": {
     "is_executing": true
    }
   }
  },
  {
   "cell_type": "code",
   "execution_count": null,
   "outputs": [],
   "source": [
    "X = data\n",
    "Y = labels\n",
    "\n",
    "X_train, X_valtest, Y_train, Y_valtest = train_test_split(X, Y, test_size=0.2, random_state=42)\n",
    "\n",
    "X_val, X_test, Y_val, Y_test = train_test_split(X_valtest, Y_valtest, test_size=0.5, random_state=43)"
   ],
   "metadata": {
    "collapsed": false,
    "ExecuteTime": {
     "start_time": "2023-05-09T00:24:13.053768Z",
     "end_time": "2023-05-09T00:24:23.951065Z"
    },
    "pycharm": {
     "is_executing": true
    }
   }
  },
  {
   "cell_type": "code",
   "execution_count": null,
   "outputs": [],
   "source": [
    "# Train models between 2 and 40 clusters\n",
    "cluster_counts = [*range(2, 40)]\n",
    "\n",
    "losses = []\n",
    "models = []\n",
    "for n in tqdm(cluster_counts):\n",
    "    model = MiniBatchKMeans(n_clusters=n, verbose=0, n_init='auto')\n",
    "    model.fit(X_train)\n",
    "    models.append(model)\n",
    "    Y_pred = model.predict(X_val)\n",
    "    score = adjusted_rand_score(Y_val, Y_pred)\n",
    "    losses.append(score)\n",
    "\n",
    "cluster_counts = np.array(cluster_counts)\n",
    "losses = np.array(losses)"
   ],
   "metadata": {
    "collapsed": false,
    "ExecuteTime": {
     "start_time": "2023-05-09T00:24:30.264062Z",
     "end_time": "2023-05-09T00:27:28.055670Z"
    },
    "pycharm": {
     "is_executing": true
    }
   }
  },
  {
   "cell_type": "code",
   "execution_count": null,
   "outputs": [],
   "source": [
    "best_n = cluster_counts[np.argmax(losses)]\n",
    "best_preds = models[np.argmax(losses)].predict(X_test)\n",
    "best_score = adjusted_rand_score(Y_test, best_preds)\n",
    "\n",
    "print(f\"Best number of clusters to match the original categories: {best_n} at {best_score:.3f} ARI\")\n",
    "# Evaluate in terms of similarity to the \"ground truth\" category-based clustering.\n",
    "\n",
    "plt.plot(cluster_counts, losses)\n",
    "plt.title(\"Adjusted Rand Score vs. Number of Clusters\")\n",
    "plt.xlabel(\"Number of clusters\")\n",
    "plt.ylabel(\"Adjusted Rand Score\")\n",
    "\n",
    "plt.show()"
   ],
   "metadata": {
    "collapsed": false,
    "ExecuteTime": {
     "start_time": "2023-05-09T00:31:27.435312Z",
     "end_time": "2023-05-09T00:31:27.880344Z"
    },
    "pycharm": {
     "is_executing": true
    }
   }
  },
  {
   "cell_type": "code",
   "execution_count": null,
   "outputs": [],
   "source": [
    "wcss = np.array([model.inertia_ for model in models])"
   ],
   "metadata": {
    "collapsed": false,
    "ExecuteTime": {
     "start_time": "2023-05-09T00:32:30.624191Z",
     "end_time": "2023-05-09T00:32:30.632463Z"
    },
    "pycharm": {
     "is_executing": true
    }
   }
  },
  {
   "cell_type": "code",
   "execution_count": null,
   "outputs": [],
   "source": [
    "plt.plot(cluster_counts, wcss)\n",
    "plt.title(\"Within-Cluster Sum of Squares vs. Number of Clusters\")\n",
    "plt.xlabel(\"Number of clusters\")\n",
    "plt.ylabel(\"Within-Cluster Sum of Squares\")\n",
    "\n",
    "plt.show()\n"
   ],
   "metadata": {
    "collapsed": false,
    "ExecuteTime": {
     "start_time": "2023-05-09T00:33:24.413728Z",
     "end_time": "2023-05-09T00:33:24.628647Z"
    },
    "pycharm": {
     "is_executing": true
    }
   }
  },
  {
   "cell_type": "markdown",
   "source": [
    "# Summary\n",
    "\n",
    "From the analysis above we see that ARI reaches an optimal value at 9 clusters.\n",
    "Similarly, applying the elbow method to the within-cluster sum of squares, we see that the optimal number of clusters is close to 9.\n",
    "\n",
    "From this, following the original problem statement, I propose that the optimal number of clusters is 9."
   ],
   "metadata": {
    "collapsed": false
   }
  }
 ],
 "metadata": {
  "kernelspec": {
   "display_name": "Python 3",
   "language": "python",
   "name": "python3"
  },
  "language_info": {
   "codemirror_mode": {
    "name": "ipython",
    "version": 2
   },
   "file_extension": ".py",
   "mimetype": "text/x-python",
   "name": "python",
   "nbconvert_exporter": "python",
   "pygments_lexer": "ipython2",
   "version": "2.7.6"
  }
 },
 "nbformat": 4,
 "nbformat_minor": 0
}
